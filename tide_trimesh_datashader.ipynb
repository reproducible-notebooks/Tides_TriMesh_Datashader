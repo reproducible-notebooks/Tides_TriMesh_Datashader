{
 "cells": [
  {
   "cell_type": "markdown",
   "metadata": {},
   "source": [
    "# Visualizing ADCIRC data\n",
    "\n",
    "[Datashader](http://datashader.org)'s support for irregular triangular meshes allows datasets from such simulations to be rendered onscreen efficiently. This notebook shows an example of rendering a ADCIRC tidal database of the US Eastern coast, Once Datashader and the dataset are installed, you can run this notebook yourself to get a live version with interactive zooming for the plots that support it.\n",
    "\n",
    "Here you can enable the wheel-zoom tool in the toolbar, then use scrolling and your pointer to zoom and pan in the plot. As always with datashader, the data is provided to the browser in only one resolution to start with, and it will be updated when you zoom in"
   ]
  },
  {
   "cell_type": "code",
   "execution_count": null,
   "metadata": {
    "ExecuteTime": {
     "end_time": "2018-03-26T15:17:32.649649Z",
     "start_time": "2018-03-26T15:17:27.094331Z"
    }
   },
   "outputs": [],
   "source": [
    "from gridgeo.ugrid import ugrid\n",
    "from netCDF4 import Dataset\n",
    "\n",
    "\n",
    "url = 'http://gamone.whoi.edu/thredds/dodsC/usgs/vault0/models/tides/ec2015/f53.ncml'\n",
    "\n",
    "with Dataset(url) as nc:\n",
    "    grid = ugrid(nc)\n",
    "    z = nc['Amp'][0, :]"
   ]
  },
  {
   "cell_type": "code",
   "execution_count": null,
   "metadata": {
    "ExecuteTime": {
     "end_time": "2018-03-26T15:17:32.677651Z",
     "start_time": "2018-03-26T15:17:32.652649Z"
    }
   },
   "outputs": [],
   "source": [
    "import numpy as np\n",
    "\n",
    "\n",
    "data = np.vstack(\n",
    "    (grid['nodes']['x'], grid['nodes']['y'], z)\n",
    ").T"
   ]
  },
  {
   "cell_type": "code",
   "execution_count": null,
   "metadata": {
    "ExecuteTime": {
     "end_time": "2018-03-26T15:17:32.739654Z",
     "start_time": "2018-03-26T15:17:32.709653Z"
    }
   },
   "outputs": [],
   "source": [
    "import pandas as pd\n",
    "\n",
    "\n",
    "verts = pd.DataFrame(data, columns=['x','y','z'])\n",
    "tris = pd.DataFrame(grid['faces'], columns=['v0', 'v1', 'v2'])"
   ]
  },
  {
   "cell_type": "code",
   "execution_count": null,
   "metadata": {
    "ExecuteTime": {
     "end_time": "2018-03-26T15:17:33.042672Z",
     "start_time": "2018-03-26T15:17:32.742655Z"
    }
   },
   "outputs": [],
   "source": [
    "import datashader\n",
    "\n",
    "\n",
    "%time mesh = datashader.utils.mesh(verts, tris)"
   ]
  },
  {
   "cell_type": "code",
   "execution_count": null,
   "metadata": {
    "ExecuteTime": {
     "end_time": "2018-03-26T15:17:35.599818Z",
     "start_time": "2018-03-26T15:17:33.045672Z"
    }
   },
   "outputs": [],
   "source": [
    "cvs = datashader.Canvas(plot_height=500, plot_width=500)\n",
    "\n",
    "%time agg = cvs.trimesh(verts, tris, mesh=mesh)"
   ]
  },
  {
   "cell_type": "code",
   "execution_count": null,
   "metadata": {
    "ExecuteTime": {
     "end_time": "2018-03-26T15:17:39.457039Z",
     "start_time": "2018-03-26T15:17:35.604818Z"
    }
   },
   "outputs": [],
   "source": [
    "import holoviews\n",
    "\n",
    "\n",
    "holoviews.extension('bokeh')"
   ]
  },
  {
   "cell_type": "code",
   "execution_count": null,
   "metadata": {
    "ExecuteTime": {
     "end_time": "2018-03-26T15:17:41.506156Z",
     "start_time": "2018-03-26T15:17:39.460039Z"
    }
   },
   "outputs": [],
   "source": [
    "import geoviews\n",
    "from holoviews.operation.datashader import datashade\n",
    "import palettable\n",
    "\n",
    "\n",
    "cmap = palettable.cmocean.sequential.Deep_20.mpl_colormap\n",
    "\n",
    "%opts WMTS [width=500 height=500]\n",
    "\n",
    "tiles = geoviews.WMTS('https://maps.wikimedia.org/osm-intl/{Z}/{X}/{Y}@2x.png')\n",
    "\n",
    "%time points = geoviews.operation.project_points(geoviews.Points(verts, vdims=['z']))\n",
    "\n",
    "tiles * datashade(\n",
    "    holoviews.TriMesh((tris, points)),\n",
    "    cmap=cmap,\n",
    "    normalization='linear',\n",
    "    aggregator=datashader.mean('z'),\n",
    "    precompute=True\n",
    ")"
   ]
  },
  {
   "cell_type": "markdown",
   "metadata": {},
   "source": [
    "Here you can enable the wheel-zoom tool in the toolbar, then use scrolling and your pointer to zoom and pan in the plot.  As always with datashader, the data is provided to the browser in only one resolution to start with, and it will be updated when you zoom in only if you have a running Python process, and are not just viewing this on a static web page."
   ]
  }
 ],
 "metadata": {
  "extensions": {
   "jupyter_dashboards": {
    "activeView": "report_default",
    "version": 1,
    "views": {
     "grid_default": {
      "cellMargin": 10,
      "defaultCellHeight": 20,
      "maxColumns": 12,
      "name": "grid",
      "type": "grid"
     },
     "report_default": {
      "name": "report",
      "type": "report"
     }
    }
   }
  },
  "kernelspec": {
   "display_name": "Python 3",
   "language": "python",
   "name": "python3"
  },
  "language_info": {
   "codemirror_mode": {
    "name": "ipython",
    "version": 3
   },
   "file_extension": ".py",
   "mimetype": "text/x-python",
   "name": "python",
   "nbconvert_exporter": "python",
   "pygments_lexer": "ipython3",
   "version": "3.6.4"
  }
 },
 "nbformat": 4,
 "nbformat_minor": 2
}
