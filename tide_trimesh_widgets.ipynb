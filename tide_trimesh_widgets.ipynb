{
 "cells": [
  {
   "cell_type": "markdown",
   "metadata": {},
   "source": [
    "## ADCIRC TriMesh data with Datashader\n",
    "\n",
    "[Datashader](http://datashader.org) support for irregular triangular meshes allows large ADCIRC datasets to be rendered onscreen efficiently. This notebook shows an example of rendering the depth or M2 Amplitude from the [EC2015 tidal database](https://doi.org/10.3390/jmse4040072).  Make possible by the [EarthSim Project](https://pyviz.github.io/EarthSim/).\n",
    "\n",
    "After the data loads (after ~20-30 seconds), click one of the zoom tools to see performant rendering on the fly...."
   ]
  },
  {
   "cell_type": "code",
   "execution_count": null,
   "metadata": {
    "ExecuteTime": {
     "end_time": "2018-03-27T18:09:59.150461Z",
     "start_time": "2018-03-27T18:09:52.302069Z"
    }
   },
   "outputs": [],
   "source": [
    "import datashader as ds\n",
    "import pandas as pd\n",
    "import numpy as np\n",
    "import holoviews as hv\n",
    "from holoviews.operation.datashader import datashade, rasterize\n",
    "import geoviews as gv\n",
    "import palettable\n",
    "import ipywidgets as ipyw\n",
    "from gridgeo.ugrid import ugrid\n",
    "import netCDF4\n",
    "hv.extension(\"bokeh\")"
   ]
  },
  {
   "cell_type": "code",
   "execution_count": null,
   "metadata": {
    "ExecuteTime": {
     "end_time": "2018-03-27T18:09:59.162462Z",
     "start_time": "2018-03-27T18:09:59.154461Z"
    }
   },
   "outputs": [],
   "source": [
    "from IPython.display import Javascript, display\n",
    "def run_all(ev):\n",
    "    display(Javascript('IPython.notebook.execute_cells_below()'))"
   ]
  },
  {
   "cell_type": "code",
   "execution_count": null,
   "metadata": {
    "ExecuteTime": {
     "end_time": "2018-03-27T18:10:03.743724Z",
     "start_time": "2018-03-27T18:09:59.169462Z"
    }
   },
   "outputs": [],
   "source": [
    "# EC2015 data in netCDF form, accessed via OPeNDAP. \n",
    "# Here we use a UGRID-ized version of http://tds.renci.org:8080/thredds/dodsC/DataLayers/Tides/ec2015_tidaldb/f53.nc.html\n",
    "url='http://gamone.whoi.edu/thredds/dodsC/usgs/vault0/models/tides/ec2015/f53.ncml'\n",
    "nc = netCDF4.Dataset(url)\n",
    "# Use gridgeo to get mesh from UGRID compliant dataset\n",
    "u = ugrid(nc)\n",
    "tris = pd.DataFrame(u['faces'].astype('int'), columns=['v0','v1','v2'])"
   ]
  },
  {
   "cell_type": "code",
   "execution_count": null,
   "metadata": {
    "ExecuteTime": {
     "end_time": "2018-03-27T18:10:03.763725Z",
     "start_time": "2018-03-27T18:10:03.745724Z"
    }
   },
   "outputs": [],
   "source": [
    "vars = ['Depth','M2 Elevation Amplitude',\n",
    "        'S2 Elevation Amplitude','N2 Elevation Amplitude',\n",
    "        'O1 Elevation Amplitude','K1 Elevation Amplitude']\n",
    "var = ipyw.Dropdown(options=vars, value=vars[0])\n",
    "display(var)"
   ]
  },
  {
   "cell_type": "code",
   "execution_count": null,
   "metadata": {
    "ExecuteTime": {
     "end_time": "2018-03-27T18:10:03.786726Z",
     "start_time": "2018-03-27T18:10:03.769725Z"
    }
   },
   "outputs": [],
   "source": [
    "button = ipyw.Button(button_style='info',description=\"Execute\")\n",
    "button.on_click(run_all)\n",
    "display(button)"
   ]
  },
  {
   "cell_type": "code",
   "execution_count": null,
   "metadata": {
    "ExecuteTime": {
     "end_time": "2018-03-27T18:10:04.505767Z",
     "start_time": "2018-03-27T18:10:03.795727Z"
    }
   },
   "outputs": [],
   "source": [
    "if var.value == 'M2 Elevation Amplitude':\n",
    "    z = nc['Amp'][0,:]   \n",
    "elif var.value == 'S2 Elevation Amplitude':\n",
    "    z = nc['Amp'][1,:]   \n",
    "elif var.value == 'N2 Elevation Amplitude':\n",
    "    z = nc['Amp'][2,:]        \n",
    "elif var.value == 'O1 Elevation Amplitude':\n",
    "    z = nc['Amp'][3,:]    \n",
    "elif var.value == 'K1 Elevation Amplitude':\n",
    "    z = nc['Amp'][4,:]    \n",
    "else:\n",
    "    z = -nc['depth'][:]"
   ]
  },
  {
   "cell_type": "code",
   "execution_count": null,
   "metadata": {
    "ExecuteTime": {
     "end_time": "2018-03-27T18:10:04.535769Z",
     "start_time": "2018-03-27T18:10:04.508768Z"
    }
   },
   "outputs": [],
   "source": [
    "v = np.vstack((u['nodes']['x'], u['nodes']['y'], z)).T\n",
    "verts = pd.DataFrame(v, columns=['x','y','z'])"
   ]
  },
  {
   "cell_type": "code",
   "execution_count": null,
   "metadata": {
    "ExecuteTime": {
     "end_time": "2018-03-27T18:10:07.288927Z",
     "start_time": "2018-03-27T18:10:04.537769Z"
    }
   },
   "outputs": [],
   "source": [
    "%opts Image [colorbar=True clipping_colors={'NaN': (0, 0, 0, 0)}] (cmap=palettable.cubehelix.perceptual_rainbow_16.mpl_colormap)\n",
    "%opts WMTS [width=700 height=400 title_format='{} (m)'.format(var.value)]\n",
    "tiles = gv.WMTS('https://server.arcgisonline.com/ArcGIS/rest/services/World_Imagery/MapServer/tile/{Z}/{Y}/{X}.jpg')\n",
    "points = gv.operation.project_points(gv.Points(verts, vdims=['z']))\n",
    "tiles * rasterize(hv.TriMesh((tris, points)), aggregator=ds.mean('z'),  precompute=True ) "
   ]
  }
 ],
 "metadata": {
  "extensions": {
   "jupyter_dashboards": {
    "activeView": "report_default",
    "version": 1,
    "views": {
     "grid_default": {
      "cellMargin": 10,
      "defaultCellHeight": 20,
      "maxColumns": 12,
      "name": "grid",
      "type": "grid"
     },
     "report_default": {
      "name": "report",
      "type": "report"
     }
    }
   }
  },
  "gist": {
   "data": {
    "description": "datashader/examples/topics/tide_trimesh_experiments",
    "public": true
   },
   "id": ""
  },
  "kernelspec": {
   "display_name": "Python [conda env:ds]",
   "language": "python",
   "name": "conda-env-ds-py"
  },
  "language_info": {
   "codemirror_mode": {
    "name": "ipython",
    "version": 3
   },
   "file_extension": ".py",
   "mimetype": "text/x-python",
   "name": "python",
   "nbconvert_exporter": "python",
   "pygments_lexer": "ipython3",
   "version": "3.6.4"
  }
 },
 "nbformat": 4,
 "nbformat_minor": 2
}
